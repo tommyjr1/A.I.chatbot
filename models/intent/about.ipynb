{
 "cells": [
  {
   "cell_type": "code",
   "execution_count": 1,
   "metadata": {},
   "outputs": [
    {
     "data": {
      "text/html": [
       "<div>\n",
       "<style scoped>\n",
       "    .dataframe tbody tr th:only-of-type {\n",
       "        vertical-align: middle;\n",
       "    }\n",
       "\n",
       "    .dataframe tbody tr th {\n",
       "        vertical-align: top;\n",
       "    }\n",
       "\n",
       "    .dataframe thead th {\n",
       "        text-align: right;\n",
       "    }\n",
       "</style>\n",
       "<table border=\"1\" class=\"dataframe\">\n",
       "  <thead>\n",
       "    <tr style=\"text-align: right;\">\n",
       "      <th></th>\n",
       "      <th>query</th>\n",
       "      <th>intent</th>\n",
       "    </tr>\n",
       "  </thead>\n",
       "  <tbody>\n",
       "    <tr>\n",
       "      <th>0</th>\n",
       "      <td>헬로우</td>\n",
       "      <td>0</td>\n",
       "    </tr>\n",
       "    <tr>\n",
       "      <th>1</th>\n",
       "      <td>헬로</td>\n",
       "      <td>0</td>\n",
       "    </tr>\n",
       "    <tr>\n",
       "      <th>2</th>\n",
       "      <td>안부 인사드립니다.</td>\n",
       "      <td>0</td>\n",
       "    </tr>\n",
       "    <tr>\n",
       "      <th>3</th>\n",
       "      <td>먼저 인사하려고 했는데 짝남이 먼저 인사해줬어. 더 떨렸겠어요.</td>\n",
       "      <td>0</td>\n",
       "    </tr>\n",
       "  </tbody>\n",
       "</table>\n",
       "</div>"
      ],
      "text/plain": [
       "                                 query  intent\n",
       "0                                  헬로우       0\n",
       "1                                   헬로       0\n",
       "2                           안부 인사드립니다.       0\n",
       "3  먼저 인사하려고 했는데 짝남이 먼저 인사해줬어. 더 떨렸겠어요.       0"
      ]
     },
     "execution_count": 1,
     "metadata": {},
     "output_type": "execute_result"
    }
   ],
   "source": [
    "import pandas as pd\n",
    "import numpy as np\n",
    "\n",
    "df=pd.read_csv(\"total_train_data.csv\")\n",
    "df.head(4)"
   ]
  },
  {
   "cell_type": "code",
   "execution_count": 2,
   "metadata": {},
   "outputs": [
    {
     "data": {
      "text/plain": [
       "3    53086\n",
       "2    39060\n",
       "4     5290\n",
       "5     3570\n",
       "6     2963\n",
       "1     1590\n",
       "0      121\n",
       "Name: intent, dtype: int64"
      ]
     },
     "execution_count": 2,
     "metadata": {},
     "output_type": "execute_result"
    }
   ],
   "source": [
    "df.iloc[:,1].value_counts()"
   ]
  },
  {
   "cell_type": "code",
   "execution_count": 4,
   "metadata": {},
   "outputs": [
    {
     "name": "stdout",
     "output_type": "stream",
     "text": [
      "{\"id\": 152352, \"name\": \"\\uac15\\uc9c4\\uc218\", \"history\": [{\"date\": \"2015-03-11\", \"item\": \"iPhone\"}, {\"date\": \"2016-02-23\", \"item\": \"Monitor\"}]}\n",
      "강진수\n"
     ]
    }
   ],
   "source": [
    "import json\n",
    " \n",
    "# 테스트용 Python Dictionary\n",
    "customer = {\n",
    "    'id': 152352,\n",
    "    'name': '강진수',\n",
    "    'history': [\n",
    "        {'date': '2015-03-11', 'item': 'iPhone'},\n",
    "        {'date': '2016-02-23', 'item': 'Monitor'},\n",
    "    ]\n",
    "}\n",
    " \n",
    "# JSON 인코딩\n",
    "jsonString = json.dumps(customer)\n",
    " \n",
    "# 문자열 출력\n",
    "print(jsonString)\n",
    "print(customer['name'])"
   ]
  },
  {
   "cell_type": "code",
   "execution_count": null,
   "metadata": {},
   "outputs": [],
   "source": []
  }
 ],
 "metadata": {
  "kernelspec": {
   "display_name": "Python 3",
   "language": "python",
   "name": "python3"
  },
  "language_info": {
   "codemirror_mode": {
    "name": "ipython",
    "version": 3
   },
   "file_extension": ".py",
   "mimetype": "text/x-python",
   "name": "python",
   "nbconvert_exporter": "python",
   "pygments_lexer": "ipython3",
   "version": "3.8.5"
  }
 },
 "nbformat": 4,
 "nbformat_minor": 4
}
